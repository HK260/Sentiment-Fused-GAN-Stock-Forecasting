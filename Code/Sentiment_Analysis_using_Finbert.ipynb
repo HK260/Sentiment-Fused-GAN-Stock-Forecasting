{
 "cells": [
  {
   "cell_type": "markdown",
   "id": "3ce1347f-9b6b-47ce-9462-0b2daeba430a",
   "metadata": {
    "jp-MarkdownHeadingCollapsed": true
   },
   "source": [
    "# 3. Sentiment Analysis Stage  \n",
    "## 3.a) News Headline Sentiment Scoring using FinBERT  \n",
    "### In this step, we apply FinBERT to calculate sentiment scores for Reliance Industries news headlines.\n",
    "\n",
    "---\n",
    "\n",
    "<details>\n",
    "  <summary><strong>1. Purpose & Overview</strong></summary>\n",
    "\n",
    "<br>\n",
    "\n",
    "This cell runs **sentiment analysis** on cleaned Google News headlines for Reliance Industries from 2020–2024 using the **FinBERT** model.  \n",
    "\n",
    "**Key Functions Performed**:\n",
    "- Loads preprocessed news dataset  \n",
    "- Loads `ProsusAI/finbert` model and tokenizer via Hugging Face    \n",
    "- Applies batch-wise inference with FinBERT  \n",
    "- Calculates sentiment score:  \n",
    "  $$\n",
    "  \\text{Score} = P(\\text{positive}) - P(\\text{negative})\n",
    "  $$\n",
    "- Stores results with their original dates in a CSV\n",
    "\n",
    "</details>\n",
    "\n",
    "---\n",
    "\n",
    "<details>\n",
    "  <summary><strong>2. Why This Matters</strong></summary>\n",
    "<br>\n",
    "- FinBERT is a financial domain-tuned BERT model specifically suited for **market sentiment**.\n",
    "- Output scores allow **daily-level sentiment tracking** over 4 years, which can then be merged with stock price data for correlation studies or trading signals.\n",
    "\n",
    "</details>\n",
    "\n",
    "---\n",
    "\n",
    "<details>\n",
    "  <summary><strong>3. Output & Results</strong></summary>\n",
    "\n",
    "<br>\n",
    "\n",
    "**Saved CSV**:  \n",
    "`sentiment_score_by_date.csv`\n",
    "\n",
    "**Columns**:\n",
    "- `Published Date` — News headline publish date  \n",
    "- `Sentiment Score` — Calculated using FinBERT  \n",
    "\n",
    "**Batch Size Handling**:\n",
    "- Tested multiple batch sizes (16 to 48)  \n",
    "- Cached the optimal size in `batch_config.json`  \n",
    "\n",
    "**Runtime**:\n",
    "- Total inference time is printed in seconds  \n",
    "- Status updates provided with progress bar (`tqdm`)  \n",
    "\n",
    "**Sample Output**:\n",
    "Displayed using `.head()` — shows the first few rows of the sentiment-scored DataFrame.\n",
    "\n",
    "</details>\n",
    "\n",
    "---"
   ]
  },
  {
   "cell_type": "code",
   "execution_count": 3,
   "id": "a0668f9c-13c3-4480-893f-8881c3312432",
   "metadata": {},
   "outputs": [],
   "source": [
    "import pandas as pd\n",
    "import torch\n",
    "from transformers import AutoTokenizer, AutoModelForSequenceClassification\n",
    "from tqdm import tqdm\n",
    "import time"
   ]
  },
  {
   "cell_type": "code",
   "execution_count": 4,
   "id": "720055c5-affc-492a-b378-5dea0bdd897c",
   "metadata": {},
   "outputs": [],
   "source": [
    "df=pd.read_csv(\"../Data/Reliance_GoogleNews_Monthly_2020_2024_preprocessed.csv\") # Loaded the saved pre-processed dataset"
   ]
  },
  {
   "cell_type": "code",
   "execution_count": 5,
   "id": "a7ce8a14-f0d7-42f8-a83d-96a9f99739dd",
   "metadata": {},
   "outputs": [
    {
     "name": "stderr",
     "output_type": "stream",
     "text": [
      "Running Inference: 100%|███████████████████████████████████████████████████████████████| 89/89 [00:49<00:00,  1.79it/s]"
     ]
    },
    {
     "name": "stdout",
     "output_type": "stream",
     "text": [
      "Total inference time: 49.80 seconds\n",
      "Saved to sentiment_score_by_date.csv\n"
     ]
    },
    {
     "name": "stderr",
     "output_type": "stream",
     "text": [
      "\n"
     ]
    },
    {
     "data": {
      "text/html": [
       "<div>\n",
       "<style scoped>\n",
       "    .dataframe tbody tr th:only-of-type {\n",
       "        vertical-align: middle;\n",
       "    }\n",
       "\n",
       "    .dataframe tbody tr th {\n",
       "        vertical-align: top;\n",
       "    }\n",
       "\n",
       "    .dataframe thead th {\n",
       "        text-align: right;\n",
       "    }\n",
       "</style>\n",
       "<table border=\"1\" class=\"dataframe\">\n",
       "  <thead>\n",
       "    <tr style=\"text-align: right;\">\n",
       "      <th></th>\n",
       "      <th>Sentiment Score</th>\n",
       "    </tr>\n",
       "  </thead>\n",
       "  <tbody>\n",
       "    <tr>\n",
       "      <th>count</th>\n",
       "      <td>1417.000000</td>\n",
       "    </tr>\n",
       "    <tr>\n",
       "      <th>mean</th>\n",
       "      <td>0.345303</td>\n",
       "    </tr>\n",
       "    <tr>\n",
       "      <th>std</th>\n",
       "      <td>0.592980</td>\n",
       "    </tr>\n",
       "    <tr>\n",
       "      <th>min</th>\n",
       "      <td>-0.931364</td>\n",
       "    </tr>\n",
       "    <tr>\n",
       "      <th>25%</th>\n",
       "      <td>0.003837</td>\n",
       "    </tr>\n",
       "    <tr>\n",
       "      <th>50%</th>\n",
       "      <td>0.643689</td>\n",
       "    </tr>\n",
       "    <tr>\n",
       "      <th>75%</th>\n",
       "      <td>0.832885</td>\n",
       "    </tr>\n",
       "    <tr>\n",
       "      <th>max</th>\n",
       "      <td>0.933444</td>\n",
       "    </tr>\n",
       "  </tbody>\n",
       "</table>\n",
       "</div>"
      ],
      "text/plain": [
       "       Sentiment Score\n",
       "count      1417.000000\n",
       "mean          0.345303\n",
       "std           0.592980\n",
       "min          -0.931364\n",
       "25%           0.003837\n",
       "50%           0.643689\n",
       "75%           0.832885\n",
       "max           0.933444"
      ]
     },
     "execution_count": 5,
     "metadata": {},
     "output_type": "execute_result"
    }
   ],
   "source": [
    "# Load model and tokenizer\n",
    "tokenizer = AutoTokenizer.from_pretrained(\"ProsusAI/finbert\")\n",
    "model = AutoModelForSequenceClassification.from_pretrained(\"ProsusAI/finbert\")\n",
    "\n",
    "# Prepare data\n",
    "texts = df[\"Headline\"].tolist()\n",
    "dates = df[\"Published Date\"].tolist()\n",
    "\n",
    "batch_size = 16\n",
    "all_scores = []\n",
    "\n",
    "start_time = time.time()\n",
    "\n",
    "for i in tqdm(range(0, len(texts), batch_size), desc=\"Running Inference\"):\n",
    "    batch_texts = texts[i:i + batch_size]\n",
    "\n",
    "    # Tokenize\n",
    "    inputs = tokenizer(\n",
    "        batch_texts,\n",
    "        return_tensors=\"pt\",\n",
    "        padding=True,\n",
    "        truncation=True,\n",
    "        max_length=128\n",
    "    )\n",
    "\n",
    "    # Inference\n",
    "    with torch.no_grad():\n",
    "        outputs = model(**inputs)\n",
    "        probs = torch.softmax(outputs.logits, dim=1)\n",
    "\n",
    "    # Calculate sentiment score = P(positive) - P(negative)\n",
    "    sentiment_scores = (probs[:, 2] - probs[:, 0]).tolist()\n",
    "    all_scores.extend(sentiment_scores)\n",
    "\n",
    "end_time = time.time()\n",
    "print(f\"Total inference time: {end_time - start_time:.2f} seconds\")\n",
    "\n",
    "# Create minimal result DataFrame\n",
    "result_df = pd.DataFrame({\n",
    "    \"Published Date\": dates,\n",
    "    \"Sentiment Score\": all_scores\n",
    "})\n",
    "\n",
    "# Save to CSV\n",
    "result_df.to_csv(\"../Data/sentiment_score_by_date.csv\", index=False)\n",
    "print(\"Saved to sentiment_score_by_date.csv\")\n",
    "\n",
    "# Show first few rows\n",
    "result_df.head()\n",
    "result_df.describe()"
   ]
  },
  {
   "cell_type": "code",
   "execution_count": null,
   "id": "44ed15f7-815b-48f0-9198-33e31064bee7",
   "metadata": {},
   "outputs": [],
   "source": []
  }
 ],
 "metadata": {
  "kernelspec": {
   "display_name": "Python [conda env:base] *",
   "language": "python",
   "name": "conda-base-py"
  },
  "language_info": {
   "codemirror_mode": {
    "name": "ipython",
    "version": 3
   },
   "file_extension": ".py",
   "mimetype": "text/x-python",
   "name": "python",
   "nbconvert_exporter": "python",
   "pygments_lexer": "ipython3",
   "version": "3.11.7"
  },
  "widgets": {
   "application/vnd.jupyter.widget-state+json": {
    "state": {},
    "version_major": 2,
    "version_minor": 0
   }
  }
 },
 "nbformat": 4,
 "nbformat_minor": 5
}
