{
 "cells": [
  {
   "cell_type": "code",
   "execution_count": 79,
   "id": "e292087b-4b7e-44f7-a481-7d18a2e9eace",
   "metadata": {},
   "outputs": [],
   "source": [
    "import os\n",
    "import pandas as pd\n",
    "import numpy as np\n",
    "import pandas as pd\n",
    "import statsmodels.api as sm\n",
    "from numpy import *\n",
    "from math import sqrt\n",
    "from pandas import *\n",
    "from datetime import datetime, timedelta\n",
    "import matplotlib.pyplot as plt\n",
    "from sklearn.preprocessing import MinMaxScaler\n",
    "from pickle import dump"
   ]
  },
  {
   "cell_type": "code",
   "execution_count": 80,
   "id": "3bc99d56-7abe-41f9-bdd0-af248c280e2e",
   "metadata": {},
   "outputs": [],
   "source": [
    "dataset = pd.read_csv('Final_preprocessed_stock_data.csv')\n",
    "news = pd.read_csv(\"Sentiment Analysis/sentiment_score_by_date.csv\")"
   ]
  },
  {
   "cell_type": "code",
   "execution_count": 81,
   "id": "b3510118-2170-4c3e-9083-6ea6abeba828",
   "metadata": {},
   "outputs": [
    {
     "data": {
      "text/html": [
       "<div>\n",
       "<style scoped>\n",
       "    .dataframe tbody tr th:only-of-type {\n",
       "        vertical-align: middle;\n",
       "    }\n",
       "\n",
       "    .dataframe tbody tr th {\n",
       "        vertical-align: top;\n",
       "    }\n",
       "\n",
       "    .dataframe thead th {\n",
       "        text-align: right;\n",
       "    }\n",
       "</style>\n",
       "<table border=\"1\" class=\"dataframe\">\n",
       "  <thead>\n",
       "    <tr style=\"text-align: right;\">\n",
       "      <th></th>\n",
       "      <th>date</th>\n",
       "      <th>Open</th>\n",
       "      <th>High</th>\n",
       "      <th>Low</th>\n",
       "      <th>Close</th>\n",
       "      <th>Volume</th>\n",
       "      <th>MA7</th>\n",
       "      <th>MA21</th>\n",
       "      <th>EMA</th>\n",
       "    </tr>\n",
       "  </thead>\n",
       "  <tbody>\n",
       "    <tr>\n",
       "      <th>0</th>\n",
       "      <td>2020-01-01</td>\n",
       "      <td>1382.1062</td>\n",
       "      <td>1392.4076</td>\n",
       "      <td>1372.3064</td>\n",
       "      <td>1376.2718</td>\n",
       "      <td>922342.0</td>\n",
       "      <td>NaN</td>\n",
       "      <td>NaN</td>\n",
       "      <td>1376.271800</td>\n",
       "    </tr>\n",
       "    <tr>\n",
       "      <th>1</th>\n",
       "      <td>2020-01-02</td>\n",
       "      <td>1380.1918</td>\n",
       "      <td>1404.6232</td>\n",
       "      <td>1379.2802</td>\n",
       "      <td>1399.6550</td>\n",
       "      <td>1466401.0</td>\n",
       "      <td>NaN</td>\n",
       "      <td>NaN</td>\n",
       "      <td>1393.809200</td>\n",
       "    </tr>\n",
       "    <tr>\n",
       "      <th>2</th>\n",
       "      <td>2020-01-03</td>\n",
       "      <td>1398.7888</td>\n",
       "      <td>1405.0790</td>\n",
       "      <td>1388.7610</td>\n",
       "      <td>1401.3870</td>\n",
       "      <td>714913.0</td>\n",
       "      <td>NaN</td>\n",
       "      <td>NaN</td>\n",
       "      <td>1399.055369</td>\n",
       "    </tr>\n",
       "    <tr>\n",
       "      <th>3</th>\n",
       "      <td>2020-01-06</td>\n",
       "      <td>1392.0428</td>\n",
       "      <td>1392.9546</td>\n",
       "      <td>1365.1502</td>\n",
       "      <td>1368.7966</td>\n",
       "      <td>914886.0</td>\n",
       "      <td>NaN</td>\n",
       "      <td>NaN</td>\n",
       "      <td>1378.630700</td>\n",
       "    </tr>\n",
       "    <tr>\n",
       "      <th>4</th>\n",
       "      <td>2020-01-07</td>\n",
       "      <td>1385.6616</td>\n",
       "      <td>1398.4242</td>\n",
       "      <td>1380.6020</td>\n",
       "      <td>1390.2652</td>\n",
       "      <td>1018077.0</td>\n",
       "      <td>NaN</td>\n",
       "      <td>NaN</td>\n",
       "      <td>1386.419084</td>\n",
       "    </tr>\n",
       "  </tbody>\n",
       "</table>\n",
       "</div>"
      ],
      "text/plain": [
       "         date       Open       High        Low      Close     Volume  MA7  \\\n",
       "0  2020-01-01  1382.1062  1392.4076  1372.3064  1376.2718   922342.0  NaN   \n",
       "1  2020-01-02  1380.1918  1404.6232  1379.2802  1399.6550  1466401.0  NaN   \n",
       "2  2020-01-03  1398.7888  1405.0790  1388.7610  1401.3870   714913.0  NaN   \n",
       "3  2020-01-06  1392.0428  1392.9546  1365.1502  1368.7966   914886.0  NaN   \n",
       "4  2020-01-07  1385.6616  1398.4242  1380.6020  1390.2652  1018077.0  NaN   \n",
       "\n",
       "   MA21          EMA  \n",
       "0   NaN  1376.271800  \n",
       "1   NaN  1393.809200  \n",
       "2   NaN  1399.055369  \n",
       "3   NaN  1378.630700  \n",
       "4   NaN  1386.419084  "
      ]
     },
     "execution_count": 81,
     "metadata": {},
     "output_type": "execute_result"
    }
   ],
   "source": [
    "dataset.head()"
   ]
  },
  {
   "cell_type": "code",
   "execution_count": 82,
   "id": "e428c6cf-1510-485c-a88c-7d9cf3807830",
   "metadata": {},
   "outputs": [],
   "source": [
    "# Convert the 'date' column in both dataframes to datetime format\n",
    "dataset['date'] = pd.to_datetime(dataset['date'], format='%Y-%m-%d')"
   ]
  },
  {
   "cell_type": "code",
   "execution_count": 83,
   "id": "b28d9fc7-cd2a-44cc-8732-00e8fa4e5845",
   "metadata": {},
   "outputs": [
    {
     "data": {
      "text/plain": [
       "Index(['Published Date', 'Sentiment Score'], dtype='object')"
      ]
     },
     "execution_count": 83,
     "metadata": {},
     "output_type": "execute_result"
    }
   ],
   "source": [
    "news.columns"
   ]
  },
  {
   "cell_type": "code",
   "execution_count": 84,
   "id": "e715ca11-ba02-4d1c-b69b-a29219d95079",
   "metadata": {},
   "outputs": [
    {
     "data": {
      "text/plain": [
       "Index(['date', 'Sentiment Score'], dtype='object')"
      ]
     },
     "execution_count": 84,
     "metadata": {},
     "output_type": "execute_result"
    }
   ],
   "source": [
    "news.rename(columns={\"Published Date\":\"date\"},inplace=True)\n",
    "news.columns"
   ]
  },
  {
   "cell_type": "code",
   "execution_count": 85,
   "id": "bfc8aaf3-1123-4d46-a250-3b5e3e29fb4b",
   "metadata": {},
   "outputs": [
    {
     "data": {
      "text/html": [
       "<div>\n",
       "<style scoped>\n",
       "    .dataframe tbody tr th:only-of-type {\n",
       "        vertical-align: middle;\n",
       "    }\n",
       "\n",
       "    .dataframe tbody tr th {\n",
       "        vertical-align: top;\n",
       "    }\n",
       "\n",
       "    .dataframe thead th {\n",
       "        text-align: right;\n",
       "    }\n",
       "</style>\n",
       "<table border=\"1\" class=\"dataframe\">\n",
       "  <thead>\n",
       "    <tr style=\"text-align: right;\">\n",
       "      <th></th>\n",
       "      <th>date</th>\n",
       "      <th>Sentiment Score</th>\n",
       "    </tr>\n",
       "  </thead>\n",
       "  <tbody>\n",
       "    <tr>\n",
       "      <th>0</th>\n",
       "      <td>2023/09/06</td>\n",
       "      <td>0.875092</td>\n",
       "    </tr>\n",
       "    <tr>\n",
       "      <th>1</th>\n",
       "      <td>2023/03/09</td>\n",
       "      <td>0.585932</td>\n",
       "    </tr>\n",
       "    <tr>\n",
       "      <th>2</th>\n",
       "      <td>2023/02/09</td>\n",
       "      <td>-0.337465</td>\n",
       "    </tr>\n",
       "    <tr>\n",
       "      <th>3</th>\n",
       "      <td>2024/08/29</td>\n",
       "      <td>0.628884</td>\n",
       "    </tr>\n",
       "    <tr>\n",
       "      <th>4</th>\n",
       "      <td>2020/04/22</td>\n",
       "      <td>0.861005</td>\n",
       "    </tr>\n",
       "  </tbody>\n",
       "</table>\n",
       "</div>"
      ],
      "text/plain": [
       "         date  Sentiment Score\n",
       "0  2023/09/06         0.875092\n",
       "1  2023/03/09         0.585932\n",
       "2  2023/02/09        -0.337465\n",
       "3  2024/08/29         0.628884\n",
       "4  2020/04/22         0.861005"
      ]
     },
     "execution_count": 85,
     "metadata": {},
     "output_type": "execute_result"
    }
   ],
   "source": [
    "news.head()"
   ]
  },
  {
   "cell_type": "code",
   "execution_count": 86,
   "id": "eef1107d-6925-4a27-9008-b80ab6aa06ce",
   "metadata": {},
   "outputs": [
    {
     "name": "stdout",
     "output_type": "stream",
     "text": [
      "date      datetime64[ns]\n",
      "Open             float64\n",
      "High             float64\n",
      "Low              float64\n",
      "Close            float64\n",
      "Volume           float64\n",
      "MA7              float64\n",
      "MA21             float64\n",
      "EMA              float64\n",
      "dtype: object\n",
      "date                object\n",
      "Sentiment Score    float64\n",
      "dtype: object\n"
     ]
    }
   ],
   "source": [
    "# Check the datatypes to confirm they are now datetime64[ns]\n",
    "print(dataset.dtypes)\n",
    "print(news.dtypes)"
   ]
  },
  {
   "cell_type": "code",
   "execution_count": 87,
   "id": "e039400f-c987-482e-8a97-4cb81a87d4b6",
   "metadata": {},
   "outputs": [],
   "source": [
    "# Ensure both 'date' columns are datetime type\n",
    "news['date'] = pd.to_datetime(news['date'], errors='coerce')"
   ]
  },
  {
   "cell_type": "code",
   "execution_count": 88,
   "id": "3e745bed-672b-422d-874d-e3ff755f810b",
   "metadata": {},
   "outputs": [
    {
     "name": "stdout",
     "output_type": "stream",
     "text": [
      "date      datetime64[ns]\n",
      "Open             float64\n",
      "High             float64\n",
      "Low              float64\n",
      "Close            float64\n",
      "Volume           float64\n",
      "MA7              float64\n",
      "MA21             float64\n",
      "EMA              float64\n",
      "dtype: object\n",
      "date               datetime64[ns]\n",
      "Sentiment Score           float64\n",
      "dtype: object\n"
     ]
    }
   ],
   "source": [
    "# Check the datatypes to confirm they are now datetime64[ns]\n",
    "print(dataset.dtypes)\n",
    "print(news.dtypes)"
   ]
  },
  {
   "cell_type": "code",
   "execution_count": 89,
   "id": "dd593dd1-769f-4f79-8379-770c6db0f3a4",
   "metadata": {},
   "outputs": [],
   "source": [
    "# Replace 0 by NA\n",
    "dataset.replace(0, np.nan, inplace=True)"
   ]
  },
  {
   "cell_type": "code",
   "execution_count": 90,
   "id": "fb5ef67e-a492-4264-a1cf-5be97bd3ecaa",
   "metadata": {},
   "outputs": [],
   "source": [
    "dataset = pd.merge(dataset, news[['date', 'Sentiment Score']], on='date', how='left')\n",
    "dataset.rename(columns={'Sentiment Score': 'News'}, inplace=True)"
   ]
  },
  {
   "cell_type": "code",
   "execution_count": 91,
   "id": "094662fb-b349-4dc9-9b90-bd4d576f27dc",
   "metadata": {},
   "outputs": [
    {
     "data": {
      "text/plain": [
       "date        0\n",
       "Open        0\n",
       "High        0\n",
       "Low         0\n",
       "Close       0\n",
       "Volume      0\n",
       "MA7         6\n",
       "MA21       20\n",
       "EMA         0\n",
       "News      132\n",
       "dtype: int64"
      ]
     },
     "execution_count": 91,
     "metadata": {},
     "output_type": "execute_result"
    }
   ],
   "source": [
    "# Check NA and fill them\n",
    "dataset.isnull().sum()"
   ]
  },
  {
   "cell_type": "code",
   "execution_count": 92,
   "id": "b87f8971-a814-4af0-b4c2-2ee68ad2cea9",
   "metadata": {},
   "outputs": [],
   "source": [
    "dataset.iloc[:, 1:] = pd.concat([\n",
    "    dataset.iloc[:, 1:].ffill(),   # Forward fill\n",
    "    dataset.iloc[:, 1:].bfill()    # Backward fill\n",
    "]).groupby(level=0).mean()"
   ]
  },
  {
   "cell_type": "code",
   "execution_count": 93,
   "id": "9587950a-c37b-4cc5-850d-cdb4348c01b5",
   "metadata": {},
   "outputs": [
    {
     "name": "stdout",
     "output_type": "stream",
     "text": [
      "Index(['date', 'Open', 'High', 'Low', 'Close', 'Volume', 'MA7', 'MA21', 'EMA',\n",
      "       'News'],\n",
      "      dtype='object')\n"
     ]
    }
   ],
   "source": [
    "print(dataset.columns)"
   ]
  },
  {
   "cell_type": "code",
   "execution_count": 94,
   "id": "42e9cb30-dfe5-4316-89cc-6e6ea018cff7",
   "metadata": {},
   "outputs": [
    {
     "data": {
      "text/plain": [
       "date      0\n",
       "Open      0\n",
       "High      0\n",
       "Low       0\n",
       "Close     0\n",
       "Volume    0\n",
       "MA7       0\n",
       "MA21      0\n",
       "EMA       0\n",
       "News      0\n",
       "dtype: int64"
      ]
     },
     "execution_count": 94,
     "metadata": {},
     "output_type": "execute_result"
    }
   ],
   "source": [
    "# Check NA and fill them\n",
    "dataset.isnull().sum()"
   ]
  },
  {
   "cell_type": "code",
   "execution_count": 95,
   "id": "813e5609-863f-48fc-991f-f152e3f55fb3",
   "metadata": {},
   "outputs": [],
   "source": [
    "dataset.set_index('date',inplace=True)"
   ]
  },
  {
   "cell_type": "code",
   "execution_count": 96,
   "id": "d1765efe-5bf5-4743-8f3d-bc6cc63f651e",
   "metadata": {},
   "outputs": [],
   "source": [
    "dataset = dataset.sort_values(by='date')"
   ]
  },
  {
   "cell_type": "code",
   "execution_count": 97,
   "id": "80ce644b-3da2-4f93-9b72-4aa4e3995ba4",
   "metadata": {},
   "outputs": [
    {
     "data": {
      "text/html": [
       "<div>\n",
       "<style scoped>\n",
       "    .dataframe tbody tr th:only-of-type {\n",
       "        vertical-align: middle;\n",
       "    }\n",
       "\n",
       "    .dataframe tbody tr th {\n",
       "        vertical-align: top;\n",
       "    }\n",
       "\n",
       "    .dataframe thead th {\n",
       "        text-align: right;\n",
       "    }\n",
       "</style>\n",
       "<table border=\"1\" class=\"dataframe\">\n",
       "  <thead>\n",
       "    <tr style=\"text-align: right;\">\n",
       "      <th></th>\n",
       "      <th>Open</th>\n",
       "      <th>High</th>\n",
       "      <th>Low</th>\n",
       "      <th>Close</th>\n",
       "      <th>Volume</th>\n",
       "      <th>MA7</th>\n",
       "      <th>MA21</th>\n",
       "      <th>EMA</th>\n",
       "      <th>News</th>\n",
       "    </tr>\n",
       "    <tr>\n",
       "      <th>date</th>\n",
       "      <th></th>\n",
       "      <th></th>\n",
       "      <th></th>\n",
       "      <th></th>\n",
       "      <th></th>\n",
       "      <th></th>\n",
       "      <th></th>\n",
       "      <th></th>\n",
       "      <th></th>\n",
       "    </tr>\n",
       "  </thead>\n",
       "  <tbody>\n",
       "    <tr>\n",
       "      <th>2020-01-01</th>\n",
       "      <td>1382.1062</td>\n",
       "      <td>1392.4076</td>\n",
       "      <td>1372.3064</td>\n",
       "      <td>1376.2718</td>\n",
       "      <td>922342.0</td>\n",
       "      <td>1389.666171</td>\n",
       "      <td>1390.814362</td>\n",
       "      <td>1376.271800</td>\n",
       "      <td>0.395631</td>\n",
       "    </tr>\n",
       "    <tr>\n",
       "      <th>2020-01-02</th>\n",
       "      <td>1380.1918</td>\n",
       "      <td>1404.6232</td>\n",
       "      <td>1379.2802</td>\n",
       "      <td>1399.6550</td>\n",
       "      <td>1466401.0</td>\n",
       "      <td>1389.666171</td>\n",
       "      <td>1390.814362</td>\n",
       "      <td>1393.809200</td>\n",
       "      <td>0.826470</td>\n",
       "    </tr>\n",
       "    <tr>\n",
       "      <th>2020-01-03</th>\n",
       "      <td>1398.7888</td>\n",
       "      <td>1405.0790</td>\n",
       "      <td>1388.7610</td>\n",
       "      <td>1401.3870</td>\n",
       "      <td>714913.0</td>\n",
       "      <td>1389.666171</td>\n",
       "      <td>1390.814362</td>\n",
       "      <td>1399.055369</td>\n",
       "      <td>0.665752</td>\n",
       "    </tr>\n",
       "    <tr>\n",
       "      <th>2020-01-06</th>\n",
       "      <td>1392.0428</td>\n",
       "      <td>1392.9546</td>\n",
       "      <td>1365.1502</td>\n",
       "      <td>1368.7966</td>\n",
       "      <td>914886.0</td>\n",
       "      <td>1389.666171</td>\n",
       "      <td>1390.814362</td>\n",
       "      <td>1378.630700</td>\n",
       "      <td>0.891911</td>\n",
       "    </tr>\n",
       "    <tr>\n",
       "      <th>2020-01-07</th>\n",
       "      <td>1385.6616</td>\n",
       "      <td>1398.4242</td>\n",
       "      <td>1380.6020</td>\n",
       "      <td>1390.2652</td>\n",
       "      <td>1018077.0</td>\n",
       "      <td>1389.666171</td>\n",
       "      <td>1390.814362</td>\n",
       "      <td>1386.419084</td>\n",
       "      <td>0.862386</td>\n",
       "    </tr>\n",
       "  </tbody>\n",
       "</table>\n",
       "</div>"
      ],
      "text/plain": [
       "                 Open       High        Low      Close     Volume  \\\n",
       "date                                                                \n",
       "2020-01-01  1382.1062  1392.4076  1372.3064  1376.2718   922342.0   \n",
       "2020-01-02  1380.1918  1404.6232  1379.2802  1399.6550  1466401.0   \n",
       "2020-01-03  1398.7888  1405.0790  1388.7610  1401.3870   714913.0   \n",
       "2020-01-06  1392.0428  1392.9546  1365.1502  1368.7966   914886.0   \n",
       "2020-01-07  1385.6616  1398.4242  1380.6020  1390.2652  1018077.0   \n",
       "\n",
       "                    MA7         MA21          EMA      News  \n",
       "date                                                         \n",
       "2020-01-01  1389.666171  1390.814362  1376.271800  0.395631  \n",
       "2020-01-02  1389.666171  1390.814362  1393.809200  0.826470  \n",
       "2020-01-03  1389.666171  1390.814362  1399.055369  0.665752  \n",
       "2020-01-06  1389.666171  1390.814362  1378.630700  0.891911  \n",
       "2020-01-07  1389.666171  1390.814362  1386.419084  0.862386  "
      ]
     },
     "execution_count": 97,
     "metadata": {},
     "output_type": "execute_result"
    }
   ],
   "source": [
    "dataset.head()"
   ]
  },
  {
   "cell_type": "code",
   "execution_count": 98,
   "id": "53e2c5c2-c5e3-4bd1-b53f-c7a7ece268d2",
   "metadata": {},
   "outputs": [],
   "source": [
    "# Get features and target\n",
    "X_value = pd.DataFrame(dataset.iloc[:, :])\n",
    "y_value = pd.DataFrame(dataset.iloc[:, 3])"
   ]
  },
  {
   "cell_type": "code",
   "execution_count": 99,
   "id": "84133677-8ea6-4267-b0c5-d3ee7b1a646d",
   "metadata": {},
   "outputs": [
    {
     "data": {
      "image/png": "[encoded data removed]",
      "text/plain": [
       "<Figure size 640x480 with 1 Axes>"
      ]
     },
     "metadata": {},
     "output_type": "display_data"
    }
   ],
   "source": [
    "# Autocorrelation Check\n",
    "sm.graphics.tsa.plot_acf(y_value.squeeze(), lags=100)\n",
    "plt.show()"
   ]
  },
  {
   "cell_type": "code",
   "execution_count": 100,
   "id": "657cf5ec-3ebe-4db7-b020-60fc6b35d93e",
   "metadata": {},
   "outputs": [],
   "source": [
    "# Normalized the data\n",
    "X_scaler = MinMaxScaler(feature_range=(-1, 1))\n",
    "y_scaler = MinMaxScaler(feature_range=(-1, 1))"
   ]
  },
  {
   "cell_type": "code",
   "execution_count": 101,
   "id": "5c32d597-32e7-4121-bfee-8d042219b869",
   "metadata": {},
   "outputs": [],
   "source": [
    "X_scale_dataset = X_scaler.fit_transform(X_value)\n",
    "y_scale_dataset = y_scaler.fit_transform(y_value)"
   ]
  },
  {
   "cell_type": "code",
   "execution_count": 102,
   "id": "047b1dd4-8af5-4f22-9cfc-aafe9bbab8b5",
   "metadata": {},
   "outputs": [],
   "source": [
    "dump(X_scaler, open('X_scaler.pkl', 'wb'))\n",
    "dump(y_scaler, open('y_scaler.pkl', 'wb'))"
   ]
  },
  {
   "cell_type": "code",
   "execution_count": 103,
   "id": "1ca13112-c5c7-46a0-adfe-4216ba67643c",
   "metadata": {},
   "outputs": [],
   "source": [
    "n_steps_in = 3\n",
    "n_features = X_value.shape[1]\n",
    "n_steps_out = 1"
   ]
  },
  {
   "cell_type": "code",
   "execution_count": 104,
   "id": "dbb565a7-a78f-486b-848a-3abadbfef597",
   "metadata": {},
   "outputs": [],
   "source": [
    "# Get X/y dataset\n",
    "def get_X_y(X_data, y_data):\n",
    "    X = list()\n",
    "    y = list()\n",
    "    yc = list()\n",
    "\n",
    "    length = len(X_data)\n",
    "    for i in range(0, length, 1):\n",
    "        X_value = X_data[i: i + n_steps_in][:, :]\n",
    "        y_value = y_data[i + n_steps_in: i + (n_steps_in + n_steps_out)][:, 0]\n",
    "        yc_value = y_data[i: i + n_steps_in][:, :]\n",
    "        if len(X_value) == 3 and len(y_value) == 1:\n",
    "            X.append(X_value)\n",
    "            y.append(y_value)\n",
    "            yc.append(yc_value)\n",
    "\n",
    "    return np.array(X), np.array(y), np.array(yc)"
   ]
  },
  {
   "cell_type": "code",
   "execution_count": 105,
   "id": "d7af8bc1-257f-4e27-9ed8-697c7e7cb486",
   "metadata": {},
   "outputs": [],
   "source": [
    "# Get data and check shape\n",
    "X, y, yc = get_X_y(X_scale_dataset, y_scale_dataset)"
   ]
  },
  {
   "cell_type": "code",
   "execution_count": 106,
   "id": "4c48a5b0-17df-4aa0-b2ac-eb991d868976",
   "metadata": {},
   "outputs": [],
   "source": [
    "# Split train/test dataset\n",
    "def split_train_test(data):\n",
    "    train_size = round(len(X) * 0.7)\n",
    "    data_train = data[0:train_size]\n",
    "    data_test = data[train_size:]\n",
    "    return data_train, data_test"
   ]
  },
  {
   "cell_type": "code",
   "execution_count": 107,
   "id": "20ddf9ed-dc44-4333-9af0-969776ccfce1",
   "metadata": {},
   "outputs": [],
   "source": [
    "X_train, X_test, = split_train_test(X)\n",
    "y_train, y_test, = split_train_test(y)\n",
    "yc_train, yc_test, = split_train_test(yc)"
   ]
  },
  {
   "cell_type": "code",
   "execution_count": 108,
   "id": "a4f85afd-3683-4e63-aa0b-e97b776ae0b6",
   "metadata": {},
   "outputs": [],
   "source": [
    "# get the train test predict index\n",
    "def predict_index(dataset, X_train, n_steps_in, n_steps_out):\n",
    "\n",
    "    # get the predict data (remove the in_steps days)\n",
    "    train_predict_index = dataset.iloc[n_steps_in : X_train.shape[0] + n_steps_in + n_steps_out - 1, :].index\n",
    "    test_predict_index = dataset.iloc[X_train.shape[0] + n_steps_in:, :].index\n",
    "\n",
    "    return train_predict_index, test_predict_index"
   ]
  },
  {
   "cell_type": "code",
   "execution_count": 109,
   "id": "810dc9be-f335-4ce6-9134-caf48fd4ce87",
   "metadata": {},
   "outputs": [],
   "source": [
    "index_train, index_test, = predict_index(dataset, X_train, n_steps_in, n_steps_out)"
   ]
  },
  {
   "cell_type": "code",
   "execution_count": 110,
   "id": "a48d3614-5e96-4ecb-b411-2f243b29ae33",
   "metadata": {},
   "outputs": [
    {
     "name": "stdout",
     "output_type": "stream",
     "text": [
      "X shape:  (986, 3, 9)\n",
      "y shape:  (986, 1)\n",
      "X_train shape:  (690, 3, 9)\n",
      "y_train shape:  (690, 1)\n",
      "y_c_train shape:  (690, 3, 1)\n",
      "X_test shape:  (296, 3, 9)\n",
      "y_test shape:  (296, 1)\n",
      "y_c_test shape:  (296, 3, 1)\n",
      "index_train shape: (690,)\n",
      "index_test shape: (296,)\n"
     ]
    }
   ],
   "source": [
    "print('X shape: ', X.shape)\n",
    "print('y shape: ', y.shape)\n",
    "print('X_train shape: ', X_train.shape)\n",
    "print('y_train shape: ', y_train.shape)\n",
    "print('y_c_train shape: ', yc_train.shape)\n",
    "print('X_test shape: ', X_test.shape)\n",
    "print('y_test shape: ', y_test.shape)\n",
    "print('y_c_test shape: ', yc_test.shape)\n",
    "print('index_train shape:', index_train.shape)\n",
    "print('index_test shape:', index_test.shape)"
   ]
  },
  {
   "cell_type": "code",
   "execution_count": null,
   "id": "12901971-a4e4-451b-aabf-5b1272db8be5",
   "metadata": {},
   "outputs": [],
   "source": []
  }
 ],
 "metadata": {
  "kernelspec": {
   "display_name": "Python [conda env:base] *",
   "language": "python",
   "name": "conda-base-py"
  },
  "language_info": {
   "codemirror_mode": {
    "name": "ipython",
    "version": 3
   },
   "file_extension": ".py",
   "mimetype": "text/x-python",
   "name": "python",
   "nbconvert_exporter": "python",
   "pygments_lexer": "ipython3",
   "version": "3.11.7"
  },
  "widgets": {
   "application/vnd.jupyter.widget-state+json": {
    "state": {},
    "version_major": 2,
    "version_minor": 0
   }
  }
 },
 "nbformat": 4,
 "nbformat_minor": 5
}
